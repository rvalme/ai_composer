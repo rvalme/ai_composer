{
 "cells": [
  {
   "cell_type": "code",
   "execution_count": null,
   "metadata": {},
   "outputs": [],
   "source": [
    "import os\n",
    "from magenta.models.melody_rnn import melody_rnn_sequence_generator\n",
    "import magenta\n",
    "from magenta.protobuf import generator_pb2\n",
    "from magenta.protobuf import music_pb2\n",
    "import magenta.music as mm"
   ]
  },
  {
   "cell_type": "code",
   "execution_count": null,
   "metadata": {},
   "outputs": [],
   "source": [
    "melody = [\"basic_rnn\", \"lookback_rnn\", \"attention_rnn\"]\n",
    "performance = [\n",
    "    \"performance\",\n",
    "    \"performance_with_dynamics\",\n",
    "    \"density_conditioned_performance_with_dynamics\",\n",
    "    \"pitch_conditioned_performance_with_dynamics\",\n",
    "    \"multiconditioned_performance_with_dynamics\",\n",
    "    \"optional_multiconditioned_performance_with_dynamics\",\n",
    "]\n",
    "\n",
    "my_rnn = ['our/classical/attention_rnn','our/blues/attention_rnn', 'our/rock/attention_rnn']\n",
    "\n",
    "# Constants.\n",
    "BUNDLE_DIR = r'./bundles/'\n",
    "MODEL_BASED_NAME = melody[2]\n",
    "MODEL_NAME = my_rnn[0]\n",
    "BUNDLE_NAME = BUNDLE_DIR + MODEL_NAME + '.mag'\n",
    "\n",
    "bundle = mm.sequence_generator_bundle.read_bundle_file(BUNDLE_NAME)\n",
    "\n",
    "# Melody RNN\n",
    "generator_mel = melody_rnn_sequence_generator.get_generator_map()\n",
    "generator = generator_mel[MODEL_BASED_NAME](checkpoint=None, bundle=bundle)\n",
    "generator.initialize()\n",
    "\n",
    "\n",
    "generator_options = generator_pb2.GeneratorOptions()\n",
    "generator_options.args['temperature'].float_value = 1  # Higher is more random; 1.0 is default.\n",
    "generate_section = generator_options.generate_sections.add(start_time=0, end_time=20)\n",
    "\n",
    "sequence = generator.generate(music_pb2.NoteSequence(), generator_options)"
   ]
  },
  {
   "cell_type": "code",
   "execution_count": null,
   "metadata": {
    "collapsed": true
   },
   "outputs": [],
   "source": [
    "mm.sequence_proto_to_midi_file(sequence, 'sample.mid')"
   ]
  },
  {
   "cell_type": "code",
   "execution_count": null,
   "metadata": {
    "collapsed": true
   },
   "outputs": [],
   "source": []
  }
 ],
 "metadata": {
  "kernelspec": {
   "display_name": "Python 3.6 (32 Bit)",
   "language": "python",
   "name": "myenv"
  },
  "language_info": {
   "codemirror_mode": {
    "name": "ipython",
    "version": 3
   },
   "file_extension": ".py",
   "mimetype": "text/x-python",
   "name": "python",
   "nbconvert_exporter": "python",
   "pygments_lexer": "ipython3",
   "version": "3.6.3"
  }
 },
 "nbformat": 4,
 "nbformat_minor": 2
}
